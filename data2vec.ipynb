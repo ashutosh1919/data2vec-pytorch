{
 "cells": [
  {
   "cell_type": "code",
   "execution_count": null,
   "source": [
    "!bash installations.sh\n"
   ],
   "outputs": [],
   "metadata": {
    "execution": {
     "iopub.execute_input": "2023-03-28T21:17:09.717578Z",
     "iopub.status.busy": "2023-03-28T21:17:09.716884Z"
    }
   }
  },
  {
   "cell_type": "markdown",
   "source": [
    "# Get model checkpoints"
   ],
   "metadata": {}
  },
  {
   "cell_type": "code",
   "execution_count": null,
   "source": [
    "!mkdir models\n",
    "%cd models\n",
    "wget https://dl.fbaipublicfiles.com/fairseq/data2vec2/base_imagenet_ft.pt ### ViT-B Imagenet-1k finetuned\n",
    "wget https://dl.fbaipublicfiles.com/fairseq/data2vec2/base_libri_960h.pt ### Librispeech finetuned 960 hour split\n",
    "wget https://dl.fbaipublicfiles.com/fairseq/data2vec2/nlp_base.pt #### Base NLP\n",
    "%cd ../"
   ],
   "outputs": [],
   "metadata": {}
  },
  {
   "cell_type": "markdown",
   "source": [
    "## Get data & train\n",
    "\n",
    "If you want to train the models yourself, you can run the cell below. \n",
    "\n",
    "This will take a long time to run, and requires downloading large datasets. "
   ],
   "metadata": {}
  },
  {
   "cell_type": "code",
   "execution_count": null,
   "source": [
    "# Downloads ImageNet and starts training data2vec_multi with it.\n",
    "!bash scripts/train_data2vec_multi_image.sh\n",
    "\n",
    "# Downloads OpenWebText and starts training data2vec_multi with it.\n",
    "!bash scripts/train_data2vec_multi_text.sh\n",
    "\n",
    "# Downloads LibriSpeech and starts training data2vec_multi with it.\n",
    "!bash scripts/train_data2vec_multi_speech.sh"
   ],
   "outputs": [],
   "metadata": {}
  },
  {
   "cell_type": "markdown",
   "source": [
    "# Checkpoints & Future usage"
   ],
   "metadata": {}
  },
  {
   "cell_type": "code",
   "execution_count": null,
   "source": [
    "import torch\n",
    "from data2vec.models.data2vec2 import D2vModalitiesConfig\n",
    "from data2vec.models.data2vec2 import Data2VecMultiConfig\n",
    "from data2vec.models.data2vec2 import Data2VecMultiModel\n",
    "from PIL import Image\n",
    "CHECKPOINT_PATH = 'models/base_imagenet_ft.pt'\n",
    "# Load checkpoint\n",
    "ckpt = torch.load(CHECKPOINT_PATH)\n",
    "\n",
    "# Create config and load model\n",
    "cfg = Data2VecMultiConfig()\n",
    "model = Data2VecMultiModel(cfg, modalities=D2vModalitiesConfig.image)\n",
    "model.load_state_dict(ckpt)\n",
    "model.eval()\n",
    "BATCHED_DATA_OBJECT = Image.open('assets/n01440764_tench.JPEG')\n",
    "# Generating prediction from data\n",
    "pred = model(BATCHED_DATA_OBJECT)"
   ],
   "outputs": [],
   "metadata": {}
  }
 ],
 "metadata": {
  "kernelspec": {
   "display_name": "Python 3 (ipykernel)",
   "language": "python",
   "name": "python3"
  },
  "language_info": {
   "codemirror_mode": {
    "name": "ipython",
    "version": 3
   },
   "file_extension": ".py",
   "mimetype": "text/x-python",
   "name": "python",
   "nbconvert_exporter": "python",
   "pygments_lexer": "ipython3",
   "version": "3.9.16"
  }
 },
 "nbformat": 4,
 "nbformat_minor": 5
}