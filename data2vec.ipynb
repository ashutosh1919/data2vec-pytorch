{
 "cells": [
  {
   "cell_type": "code",
   "execution_count": null,
   "source": [
    "!bash installations.sh\n",
    "!pip install -r requirements.txt"
   ],
   "outputs": [],
   "metadata": {
    "execution": {
     "iopub.execute_input": "2023-03-28T21:17:09.717578Z",
     "iopub.status.busy": "2023-03-28T21:17:09.716884Z"
    }
   }
  },
  {
   "cell_type": "markdown",
   "source": [
    "## Get data & train\n",
    "\n",
    "This will take a long time to run, and requires downloading large datasets. "
   ],
   "metadata": {}
  },
  {
   "cell_type": "code",
   "execution_count": null,
   "source": [
    "# Downloads ImageNet and starts training data2vec_multi with it.\n",
    "!bash scripts/train_data2vec_multi_image.sh\n",
    "\n",
    "# Downloads OpenWebText and starts training data2vec_multi with it.\n",
    "!bash scripts/train_data2vec_multi_text.sh\n",
    "\n",
    "# Downloads LibriSpeech and starts training data2vec_multi with it.\n",
    "!bash scripts/train_data2vec_multi_speech.sh"
   ],
   "outputs": [],
   "metadata": {}
  },
  {
   "cell_type": "markdown",
   "source": [
    "# Checkpoints & Future usage"
   ],
   "metadata": {}
  },
  {
   "cell_type": "code",
   "execution_count": null,
   "source": [
    "import torch\n",
    "from data2vec.models.data2vec2 import D2vModalitiesConfig\n",
    "from data2vec.models.data2vec2 import Data2VecMultiConfig\n",
    "from data2vec.models.data2vec2 import Data2VecMultiModel\n",
    "\n",
    "# Load checkpoint\n",
    "ckpt = torch.load(CHECKPOINT_PATH)\n",
    "\n",
    "# Create config and load model\n",
    "cfg = Data2VecMultiConfig()\n",
    "model = Data2VecMultiModel(cfg, modalities=D2vModalitiesConfig.image)\n",
    "model.load_state_dict(ckpt)\n",
    "model.eval()\n",
    "\n",
    "# Generating prediction from data\n",
    "pred = model(BATCHED_DATA_OBJECT)"
   ],
   "outputs": [],
   "metadata": {}
  }
 ],
 "metadata": {
  "kernelspec": {
   "display_name": "Python 3 (ipykernel)",
   "language": "python",
   "name": "python3"
  },
  "language_info": {
   "codemirror_mode": {
    "name": "ipython",
    "version": 3
   },
   "file_extension": ".py",
   "mimetype": "text/x-python",
   "name": "python",
   "nbconvert_exporter": "python",
   "pygments_lexer": "ipython3",
   "version": "3.9.16"
  }
 },
 "nbformat": 4,
 "nbformat_minor": 5
}